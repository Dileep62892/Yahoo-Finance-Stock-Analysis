{
 "cells": [
  {
   "cell_type": "code",
   "execution_count": 1,
   "metadata": {},
   "outputs": [
    {
     "name": "stdout",
     "output_type": "stream",
     "text": [
      "Requirement already satisfied: yfinance in c:\\users\\dileep\\documents\\dileep\\oracle_assignment\\oracleassignenv\\lib\\site-packages (0.2.40)\n",
      "Requirement already satisfied: pandas>=1.3.0 in c:\\users\\dileep\\documents\\dileep\\oracle_assignment\\oracleassignenv\\lib\\site-packages (from yfinance) (2.2.2)\n",
      "Requirement already satisfied: numpy>=1.16.5 in c:\\users\\dileep\\documents\\dileep\\oracle_assignment\\oracleassignenv\\lib\\site-packages (from yfinance) (1.26.4)\n",
      "Requirement already satisfied: requests>=2.31 in c:\\users\\dileep\\documents\\dileep\\oracle_assignment\\oracleassignenv\\lib\\site-packages (from yfinance) (2.32.3)\n",
      "Requirement already satisfied: multitasking>=0.0.7 in c:\\users\\dileep\\documents\\dileep\\oracle_assignment\\oracleassignenv\\lib\\site-packages (from yfinance) (0.0.11)\n",
      "Requirement already satisfied: lxml>=4.9.1 in c:\\users\\dileep\\documents\\dileep\\oracle_assignment\\oracleassignenv\\lib\\site-packages (from yfinance) (5.2.2)\n",
      "Requirement already satisfied: platformdirs>=2.0.0 in c:\\users\\dileep\\documents\\dileep\\oracle_assignment\\oracleassignenv\\lib\\site-packages (from yfinance) (4.2.2)\n",
      "Requirement already satisfied: pytz>=2022.5 in c:\\users\\dileep\\documents\\dileep\\oracle_assignment\\oracleassignenv\\lib\\site-packages (from yfinance) (2024.1)\n",
      "Requirement already satisfied: frozendict>=2.3.4 in c:\\users\\dileep\\documents\\dileep\\oracle_assignment\\oracleassignenv\\lib\\site-packages (from yfinance) (2.4.4)\n",
      "Requirement already satisfied: peewee>=3.16.2 in c:\\users\\dileep\\documents\\dileep\\oracle_assignment\\oracleassignenv\\lib\\site-packages (from yfinance) (3.17.5)\n",
      "Requirement already satisfied: beautifulsoup4>=4.11.1 in c:\\users\\dileep\\documents\\dileep\\oracle_assignment\\oracleassignenv\\lib\\site-packages (from yfinance) (4.12.3)\n",
      "Requirement already satisfied: html5lib>=1.1 in c:\\users\\dileep\\documents\\dileep\\oracle_assignment\\oracleassignenv\\lib\\site-packages (from yfinance) (1.1)\n",
      "Requirement already satisfied: soupsieve>1.2 in c:\\users\\dileep\\documents\\dileep\\oracle_assignment\\oracleassignenv\\lib\\site-packages (from beautifulsoup4>=4.11.1->yfinance) (2.5)\n",
      "Requirement already satisfied: six>=1.9 in c:\\users\\dileep\\documents\\dileep\\oracle_assignment\\oracleassignenv\\lib\\site-packages (from html5lib>=1.1->yfinance) (1.16.0)\n",
      "Requirement already satisfied: webencodings in c:\\users\\dileep\\documents\\dileep\\oracle_assignment\\oracleassignenv\\lib\\site-packages (from html5lib>=1.1->yfinance) (0.5.1)\n",
      "Requirement already satisfied: python-dateutil>=2.8.2 in c:\\users\\dileep\\documents\\dileep\\oracle_assignment\\oracleassignenv\\lib\\site-packages (from pandas>=1.3.0->yfinance) (2.9.0.post0)\n",
      "Requirement already satisfied: tzdata>=2022.7 in c:\\users\\dileep\\documents\\dileep\\oracle_assignment\\oracleassignenv\\lib\\site-packages (from pandas>=1.3.0->yfinance) (2024.1)\n",
      "Requirement already satisfied: charset-normalizer<4,>=2 in c:\\users\\dileep\\documents\\dileep\\oracle_assignment\\oracleassignenv\\lib\\site-packages (from requests>=2.31->yfinance) (3.3.2)\n",
      "Requirement already satisfied: idna<4,>=2.5 in c:\\users\\dileep\\documents\\dileep\\oracle_assignment\\oracleassignenv\\lib\\site-packages (from requests>=2.31->yfinance) (3.7)\n",
      "Requirement already satisfied: urllib3<3,>=1.21.1 in c:\\users\\dileep\\documents\\dileep\\oracle_assignment\\oracleassignenv\\lib\\site-packages (from requests>=2.31->yfinance) (2.2.1)\n",
      "Requirement already satisfied: certifi>=2017.4.17 in c:\\users\\dileep\\documents\\dileep\\oracle_assignment\\oracleassignenv\\lib\\site-packages (from requests>=2.31->yfinance) (2024.6.2)\n",
      "Note: you may need to restart the kernel to use updated packages.\n"
     ]
    },
    {
     "name": "stderr",
     "output_type": "stream",
     "text": [
      "\n",
      "[notice] A new release of pip is available: 24.0 -> 24.1.2\n",
      "[notice] To update, run: python.exe -m pip install --upgrade pip\n"
     ]
    }
   ],
   "source": [
    "%pip install yfinance"
   ]
  },
  {
   "cell_type": "code",
   "execution_count": 4,
   "metadata": {},
   "outputs": [],
   "source": [
    "import yfinance as yf\n",
    "import pandas as pd\n",
    "\n",
    "class StockData:\n",
    "    def __init__(self, ticker, start_date, end_date):\n",
    "        self.ticker = ticker\n",
    "        self.start_date = start_date\n",
    "        self.end_date = end_date\n",
    "        self.data = None\n",
    "\n",
    "    def fetch_data(self):\n",
    "        # Fetches historical stock data.\n",
    "        stock = yf.Ticker(self.ticker)\n",
    "        self.data = stock.history(start=self.start_date, end=self.end_date)\n",
    "        # Convert the date index to the format YYYY-MM-DD\n",
    "        self.data.index = self.data.index.strftime('%Y-%m-%d')\n",
    "        return self.data\n",
    "\n",
    "    def preprocess_data(self):\n",
    "        # Cleans and preprocesses the stock data.\n",
    "        if self.data is not None:\n",
    "            # Handle missing values\n",
    "            self.data.fillna(method='ffill', inplace=True)  # Forward fill\n",
    "            self.data.dropna(inplace=True)  # Drop any remaining NaNs after forward fill\n",
    "\n",
    "            # Ensure correct data types\n",
    "            self.data = self.data.astype({\n",
    "                'Open': 'float64', 'High': 'float64', 'Low': 'float64',\n",
    "                'Close': 'float64', 'Volume': 'int64'\n",
    "            })\n",
    "\n",
    "            # Drop unnecessary columns\n",
    "            self.data = self.data.drop(columns=['Dividends', 'Stock Splits'])\n",
    "        return self.data\n",
    "\n",
    "    def add_features(self):\n",
    "        # Adds additional features to the stock data.\n",
    "        if self.data is not None:\n",
    "            self.data['50_MA'] = self.data['Close'].rolling(window=50).mean()\n",
    "            self.data['Daily_Return'] = self.data['Close'].pct_change()\n",
    "\n",
    "            # Handling Null values\n",
    "            self.data.fillna(0, inplace=True)\n",
    "        return self.data\n",
    "\n",
    "    def add_company_column(self):\n",
    "        \"\"\"Adds a new column for the company ticker symbol.\"\"\"\n",
    "        if self.data is not None:\n",
    "            self.data['Company'] = self.ticker\n",
    "            self.data.reset_index(inplace=True)\n",
    "            self.data = self.data[['Company'] + list(self.data.columns[:-1])]\n",
    "        return self.data\n",
    "\n",
    "    def basic_statistics(self):\n",
    "        \"\"\"Computes basic statistics for the stock data.\"\"\"\n",
    "        stats = None\n",
    "        if self.data is not None:\n",
    "            stats = {\n",
    "                'mean': self.data['Close'].mean(),\n",
    "                'median': self.data['Close'].median(),\n",
    "                'std_dev': self.data['Close'].std()\n",
    "            }\n",
    "        return stats\n",
    "\n",
    "\n"
   ]
  },
  {
   "cell_type": "code",
   "execution_count": 5,
   "metadata": {},
   "outputs": [],
   "source": [
    "def main():\n",
    "    # Step-by-Step Data Analysis for AAPL\n",
    "    aapl_data = StockData('AAPL', '2021-01-01', '2024-01-01')\n",
    "    df_aapl = aapl_data.fetch_data()\n",
    "    df_aapl = aapl_data.preprocess_data()\n",
    "    df_aapl = aapl_data.add_features()\n",
    "    df_aapl = aapl_data.add_company_column()\n",
    "\n",
    "    # Step-by-Step Data Analysis for MSFT\n",
    "    msft_data = StockData('MSFT', '2021-01-01', '2024-01-01')\n",
    "    df_msft = msft_data.fetch_data()\n",
    "    df_msft = msft_data.preprocess_data()\n",
    "    df_msft = msft_data.add_features()\n",
    "    df_msft = msft_data.add_company_column()\n",
    "\n",
    "    # Combine DataFrames\n",
    "    combined_df = pd.concat([df_aapl, df_msft])\n",
    "\n",
    "    # Export Combined Data to CSV\n",
    "    combined_df.to_csv('combined_stock_data1.csv', index=False)\n",
    "\n",
    "    # Print Basic Statistics for Both Companies\n",
    "    aapl_stats = aapl_data.basic_statistics()\n",
    "    msft_stats = msft_data.basic_statistics()\n",
    "\n",
    "    print(\"AAPL Stats:\", aapl_stats)\n",
    "    print(\"MSFT Stats:\", msft_stats)\n",
    "\n"
   ]
  },
  {
   "cell_type": "code",
   "execution_count": 6,
   "metadata": {},
   "outputs": [
    {
     "name": "stdout",
     "output_type": "stream",
     "text": [
      "AAPL Stats: {'mean': 154.43879510238668, 'median': 151.29434204101562, 'std_dev': 20.226124192489465}\n",
      "MSFT Stats: {'mean': 281.5549014270068, 'median': 278.026611328125, 'std_dev': 40.873772757813576}\n"
     ]
    },
    {
     "name": "stderr",
     "output_type": "stream",
     "text": [
      "C:\\Users\\DILEEP\\AppData\\Local\\Temp\\ipykernel_23408\\3084391073.py:23: FutureWarning: DataFrame.fillna with 'method' is deprecated and will raise in a future version. Use obj.ffill() or obj.bfill() instead.\n",
      "  self.data.fillna(method='ffill', inplace=True)  # Forward fill\n",
      "C:\\Users\\DILEEP\\AppData\\Local\\Temp\\ipykernel_23408\\3084391073.py:23: FutureWarning: DataFrame.fillna with 'method' is deprecated and will raise in a future version. Use obj.ffill() or obj.bfill() instead.\n",
      "  self.data.fillna(method='ffill', inplace=True)  # Forward fill\n"
     ]
    }
   ],
   "source": [
    "if __name__ == \"__main__\":\n",
    "    main()"
   ]
  },
  {
   "cell_type": "code",
   "execution_count": null,
   "metadata": {},
   "outputs": [],
   "source": []
  }
 ],
 "metadata": {
  "kernelspec": {
   "display_name": "oracleassignenv",
   "language": "python",
   "name": "python3"
  },
  "language_info": {
   "codemirror_mode": {
    "name": "ipython",
    "version": 3
   },
   "file_extension": ".py",
   "mimetype": "text/x-python",
   "name": "python",
   "nbconvert_exporter": "python",
   "pygments_lexer": "ipython3",
   "version": "3.12.3"
  }
 },
 "nbformat": 4,
 "nbformat_minor": 2
}
